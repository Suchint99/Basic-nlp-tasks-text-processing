{
 "cells": [
  {
   "cell_type": "code",
   "execution_count": 45,
   "id": "b25fad45",
   "metadata": {},
   "outputs": [
    {
     "data": {
      "text/plain": [
       "['I',\n",
       " 'am',\n",
       " 'Ghanshyam',\n",
       " 'Shivhare.',\n",
       " 'I',\n",
       " 'like',\n",
       " 'to',\n",
       " 'play',\n",
       " 'badminton',\n",
       " 'game.',\n",
       " 'I',\n",
       " 'like',\n",
       " '',\n",
       " 'dal',\n",
       " 'chapati']"
      ]
     },
     "execution_count": 45,
     "metadata": {},
     "output_type": "execute_result"
    }
   ],
   "source": [
    "import nltk\n",
    "from nltk import FreqDist\n",
    "import nltk\n",
    "text = \"I am Ghanshyam Shivhare. I like to play badminton game. I like  dal chapati\"\n",
    "text_list = text.split(\" \")\n",
    "text_list\n"
   ]
  },
  {
   "cell_type": "code",
   "execution_count": 46,
   "id": "dba58c8e",
   "metadata": {},
   "outputs": [
    {
     "data": {
      "text/plain": [
       "FreqDist({'I': 3, 'like': 2, 'am': 1, 'Ghanshyam': 1, 'Shivhare.': 1, 'to': 1, 'play': 1, 'badminton': 1, 'game.': 1, '': 1, ...})"
      ]
     },
     "execution_count": 46,
     "metadata": {},
     "output_type": "execute_result"
    }
   ],
   "source": [
    "freqDist = FreqDist(text_list)\n",
    "freqDist"
   ]
  },
  {
   "cell_type": "code",
   "execution_count": 47,
   "id": "398e511b",
   "metadata": {},
   "outputs": [
    {
     "name": "stdout",
     "output_type": "stream",
     "text": [
      "3\n"
     ]
    }
   ],
   "source": [
    "print(freqDist['I'])"
   ]
  },
  {
   "cell_type": "code",
   "execution_count": 48,
   "id": "7da13c3e",
   "metadata": {},
   "outputs": [
    {
     "data": {
      "text/plain": [
       "15"
      ]
     },
     "execution_count": 48,
     "metadata": {},
     "output_type": "execute_result"
    }
   ],
   "source": [
    "freqDist.N()"
   ]
  },
  {
   "cell_type": "code",
   "execution_count": 49,
   "id": "47d2bd1d",
   "metadata": {},
   "outputs": [
    {
     "data": {
      "text/plain": [
       "0.2"
      ]
     },
     "execution_count": 49,
     "metadata": {},
     "output_type": "execute_result"
    }
   ],
   "source": [
    "freqDist.freq('I')"
   ]
  },
  {
   "cell_type": "code",
   "execution_count": 50,
   "id": "15a848b7",
   "metadata": {},
   "outputs": [
    {
     "data": {
      "text/plain": [
       "<Axes: xlabel='Samples', ylabel='Counts'>"
      ]
     },
     "execution_count": 50,
     "metadata": {},
     "output_type": "execute_result"
    },
    {
     "data": {
      "image/png": "[encoded data removed]",
      "text/plain": [
       "<Figure size 640x480 with 1 Axes>"
      ]
     },
     "metadata": {},
     "output_type": "display_data"
    }
   ],
   "source": [
    "freqDist.plot(5)"
   ]
  },
  {
   "cell_type": "code",
   "execution_count": null,
   "id": "2d200330",
   "metadata": {},
   "outputs": [],
   "source": [
    "#concept of vectorization\n",
    "import re\n",
    "text = \"I am Ghanshyam Shivhare. I like to play badminton game. I like  dal chapati. 5454 5656 65-56-34 dggd@gmail.com hgfh\""
   ]
  },
  {
   "cell_type": "code",
   "execution_count": 52,
   "id": "32db278f",
   "metadata": {},
   "outputs": [
    {
     "data": {
      "text/plain": [
       "'   .      .     . 5454 5656 65-56-34 @. '"
      ]
     },
     "execution_count": 52,
     "metadata": {},
     "output_type": "execute_result"
    }
   ],
   "source": [
    "newtext = re.sub('[a-zA-Z]', '',text)\n",
    "newtext"
   ]
  },
  {
   "cell_type": "code",
   "execution_count": 53,
   "id": "4e3cd1b8",
   "metadata": {},
   "outputs": [
    {
     "data": {
      "text/plain": [
       "'I am Ghanshyam Shivhare  I like to play badminton game  I like  dal chapati                     dggd gmail com hgfh'"
      ]
     },
     "execution_count": 53,
     "metadata": {},
     "output_type": "execute_result"
    }
   ],
   "source": [
    "newtext = re.sub('[^a-zA-Z]', ' ', text)\n",
    "newtext"
   ]
  },
  {
   "cell_type": "code",
   "execution_count": 54,
   "id": "2e71c1ec",
   "metadata": {},
   "outputs": [
    {
     "data": {
      "text/plain": [
       "'I am Ghanshyam Shivhare. I like to play badminton game. I like  dal chapati.   -- dggd@gmail.com hgfh'"
      ]
     },
     "execution_count": 54,
     "metadata": {},
     "output_type": "execute_result"
    }
   ],
   "source": [
    "newtext = re.sub('[0-9]', '',text)\n",
    "newtext"
   ]
  },
  {
   "cell_type": "code",
   "execution_count": 55,
   "id": "a8577b14",
   "metadata": {},
   "outputs": [
    {
     "data": {
      "text/plain": [
       "'54545656655634'"
      ]
     },
     "execution_count": 55,
     "metadata": {},
     "output_type": "execute_result"
    }
   ],
   "source": [
    "newtext = re.sub('[^0-9]', '',text)\n",
    "newtext"
   ]
  },
  {
   "cell_type": "code",
   "execution_count": 56,
   "id": "4f7e9072",
   "metadata": {},
   "outputs": [
    {
     "data": {
      "text/plain": [
       "'                                                                             5454 5656 65 56 34                    '"
      ]
     },
     "execution_count": 56,
     "metadata": {},
     "output_type": "execute_result"
    }
   ],
   "source": [
    "newtext = re.sub('[^0-9]', ' ',text)\n",
    "newtext"
   ]
  },
  {
   "cell_type": "code",
   "execution_count": 57,
   "id": "3cf00551",
   "metadata": {},
   "outputs": [
    {
     "name": "stdout",
     "output_type": "stream",
     "text": [
      "Vocabulary:  {'one': 9, 'geek': 3, 'helps': 7, 'two': 11, 'geeks': 4, 'help': 6, 'four': 2, 'each': 1, 'many': 8, 'other': 10, 'at': 0, 'geeksforgeeks': 5}\n"
     ]
    }
   ],
   "source": [
    "from sklearn.feature_extraction.text import CountVectorizer \n",
    "\n",
    "document = [\"One Geek helps Two Geeks\", \n",
    "\"Two Geeks help Four Geeks\", \n",
    "\"Each Geek helps many other Geeks at GeeksforGeeks\"] \n",
    "\n",
    "# Create a Vectorizer Object \n",
    "vectorizer = CountVectorizer() \n",
    "\n",
    "vectorizer.fit(document) \n",
    "\n",
    "# Printing the identified Unique words along with their indices \n",
    "print(\"Vocabulary: \", vectorizer.vocabulary_)\n"
   ]
  },
  {
   "cell_type": "code",
   "execution_count": 58,
   "id": "c08f0f64",
   "metadata": {},
   "outputs": [
    {
     "name": "stdout",
     "output_type": "stream",
     "text": [
      "<Compressed Sparse Row sparse matrix of dtype 'int64'\n",
      "\twith 17 stored elements and shape (3, 12)>\n",
      "  Coords\tValues\n",
      "  (0, 3)\t1\n",
      "  (0, 4)\t1\n",
      "  (0, 7)\t1\n",
      "  (0, 9)\t1\n",
      "  (0, 11)\t1\n",
      "  (1, 2)\t1\n",
      "  (1, 4)\t2\n",
      "  (1, 6)\t1\n",
      "  (1, 11)\t1\n",
      "  (2, 0)\t1\n",
      "  (2, 1)\t1\n",
      "  (2, 3)\t1\n",
      "  (2, 4)\t1\n",
      "  (2, 5)\t1\n",
      "  (2, 7)\t1\n",
      "  (2, 8)\t1\n",
      "  (2, 10)\t1\n"
     ]
    }
   ],
   "source": [
    "# Encode the Document \n",
    "vector = vectorizer.transform(document) \n",
    "print(vector)\n",
    "# Summarizing the Encoded Texts \n",
    "#print(\"Encoded Document is:\") \n",
    "#print(vector.toarray())"
   ]
  },
  {
   "cell_type": "code",
   "execution_count": 59,
   "id": "bcdbc651",
   "metadata": {},
   "outputs": [
    {
     "name": "stdout",
     "output_type": "stream",
     "text": [
      "Encoded Document is:\n",
      "[[0 0 0 1 1 0 0 1 0 1 0 1]\n",
      " [0 0 1 0 2 0 1 0 0 0 0 1]\n",
      " [1 1 0 1 1 1 0 1 1 0 1 0]]\n"
     ]
    }
   ],
   "source": [
    "print(\"Encoded Document is:\") \n",
    "print(vector.toarray())"
   ]
  },
  {
   "cell_type": "code",
   "execution_count": 60,
   "id": "b2100463",
   "metadata": {},
   "outputs": [
    {
     "name": "stdout",
     "output_type": "stream",
     "text": [
      "['Natural language processing is used for building applications such as Text classification, \\nintelligent chatbot, sentimental analysis, language translation, etc.', 'It becomes vital to understand the pattern in the text to achieve the above-stated purpose.']\n"
     ]
    }
   ],
   "source": [
    "#learning sentence tokenizer \n",
    "from nltk.tokenize import sent_tokenize\n",
    "\n",
    "text=\"\"\"Natural language processing is used for building applications such as Text classification, \n",
    "intelligent chatbot, sentimental analysis, language translation, etc. \n",
    "It becomes vital to understand the pattern in the text to achieve the above-stated purpose. \n",
    "\"\"\"\n",
    "\n",
    "tokenized_text=sent_tokenize(text)\n",
    "print(tokenized_text)"
   ]
  },
  {
   "cell_type": "code",
   "execution_count": 61,
   "id": "f2f5819e",
   "metadata": {},
   "outputs": [
    {
     "data": {
      "text/plain": [
       "'Natural language processing is used for building applications such as Text classification, \\nintelligent chatbot, sentimental analysis, language translation, etc.'"
      ]
     },
     "execution_count": 61,
     "metadata": {},
     "output_type": "execute_result"
    }
   ],
   "source": [
    "tokenized_text[0]"
   ]
  },
  {
   "cell_type": "code",
   "execution_count": 62,
   "id": "200308ef",
   "metadata": {},
   "outputs": [
    {
     "name": "stdout",
     "output_type": "stream",
     "text": [
      "['I', 'am', 'Ghanshyam', 'Shivhare', 'from', 'Lucknow', '.']\n"
     ]
    }
   ],
   "source": [
    "from nltk.tokenize import word_tokenize \n",
    "text = \"I am Ghanshyam Shivhare from Lucknow.\" \n",
    "print(word_tokenize(text))"
   ]
  },
  {
   "cell_type": "code",
   "execution_count": 63,
   "id": "fed9a8b6",
   "metadata": {},
   "outputs": [],
   "source": [
    "\n",
    "from nltk.corpus import stopwords\n",
    "from nltk.tokenize import word_tokenize\n",
    "\n",
    "\n"
   ]
  },
  {
   "cell_type": "code",
   "execution_count": 64,
   "id": "0a58ecbd",
   "metadata": {},
   "outputs": [
    {
     "name": "stdout",
     "output_type": "stream",
     "text": [
      "enjoy\n",
      "enjoy\n",
      "enjoy\n",
      "enjoy\n"
     ]
    }
   ],
   "source": [
    "#iust checking the functions the real project will be made later soon\n",
    "from nltk.stem import PorterStemmer\n",
    "ps = PorterStemmer()\n",
    "example_words = [\"enjoy\", \"enjoyed\", \"enjoying\", \"enjoys\"]\n",
    "for w in example_words:\n",
    "    print(ps.stem(w))"
   ]
  },
  {
   "cell_type": "code",
   "execution_count": 65,
   "id": "5812e290",
   "metadata": {},
   "outputs": [
    {
     "data": {
      "text/plain": [
       "'enjoy'"
      ]
     },
     "execution_count": 65,
     "metadata": {},
     "output_type": "execute_result"
    }
   ],
   "source": [
    "ps.stem(\"enjoying\")"
   ]
  },
  {
   "cell_type": "code",
   "execution_count": 66,
   "id": "96ecf16b",
   "metadata": {},
   "outputs": [
    {
     "name": "stdout",
     "output_type": "stream",
     "text": [
      "cat\n",
      "cactus\n",
      "goose\n",
      "rock\n",
      "python\n",
      "care\n"
     ]
    }
   ],
   "source": [
    "#Lemmatization is the process of converting a word to its base      form or root form. \n",
    "from nltk.stem import WordNetLemmatizer \n",
    "\n",
    "lemmatizer = WordNetLemmatizer() \n",
    "\n",
    "print(lemmatizer.lemmatize(\"cats\")) \n",
    "print(lemmatizer.lemmatize(\"cacti\")) \n",
    "print(lemmatizer.lemmatize(\"geese\")) \n",
    "print(lemmatizer.lemmatize(\"rocks\")) \n",
    "print(lemmatizer.lemmatize(\"python\")) \n",
    "print(lemmatizer.lemmatize(\"caring\",'v'))"
   ]
  },
  {
   "cell_type": "code",
   "execution_count": null,
   "id": "88c4303b",
   "metadata": {},
   "outputs": [
    {
     "data": {
      "text/plain": [
       "['I',\n",
       " 'am',\n",
       " 'Ghanshyam',\n",
       " 'Shivhare.',\n",
       " 'I',\n",
       " 'like',\n",
       " 'to',\n",
       " 'play',\n",
       " 'badminton',\n",
       " 'game.',\n",
       " 'I',\n",
       " 'like',\n",
       " '',\n",
       " 'dal',\n",
       " 'chapati']"
      ]
     },
     "execution_count": 67,
     "metadata": {},
     "output_type": "execute_result"
    }
   ],
   "source": [
    "#checking here again ignore it\n",
    "from nltk import FreqDist\n",
    "import nltk\n",
    "text = \"I am Ghanshyam Shivhare. I like to play badminton game. I like  dal chapati\"\n",
    "text_list = text.split(\" \")\n",
    "text_list"
   ]
  },
  {
   "cell_type": "code",
   "execution_count": 68,
   "id": "25fbb830",
   "metadata": {},
   "outputs": [
    {
     "data": {
      "text/plain": [
       "FreqDist({'I': 3, 'like': 2, 'am': 1, 'Ghanshyam': 1, 'Shivhare.': 1, 'to': 1, 'play': 1, 'badminton': 1, 'game.': 1, '': 1, ...})"
      ]
     },
     "execution_count": 68,
     "metadata": {},
     "output_type": "execute_result"
    }
   ],
   "source": [
    "freqDist = FreqDist(text_list)\n",
    "\n",
    "freqDist"
   ]
  },
  {
   "cell_type": "code",
   "execution_count": 69,
   "id": "e5ae7ac8",
   "metadata": {},
   "outputs": [
    {
     "name": "stdout",
     "output_type": "stream",
     "text": [
      "3\n"
     ]
    }
   ],
   "source": [
    "#words = list(freqDist.keys())\n",
    "print(freqDist['I'])"
   ]
  },
  {
   "cell_type": "code",
   "execution_count": 70,
   "id": "0de6861a",
   "metadata": {},
   "outputs": [
    {
     "name": "stdout",
     "output_type": "stream",
     "text": [
      "2\n"
     ]
    }
   ],
   "source": [
    "print(freqDist[\"like\"])"
   ]
  },
  {
   "cell_type": "code",
   "execution_count": 71,
   "id": "79a2333f",
   "metadata": {},
   "outputs": [
    {
     "name": "stdout",
     "output_type": "stream",
     "text": [
      "[('I', 3), ('like', 2), ('am', 1), ('Ghanshyam', 1)]\n"
     ]
    }
   ],
   "source": [
    "#Display most comman 4 words \n",
    "print(freqDist.most_common(4))"
   ]
  },
  {
   "cell_type": "code",
   "execution_count": 72,
   "id": "7e4c37bc",
   "metadata": {},
   "outputs": [
    {
     "data": {
      "text/plain": [
       "15"
      ]
     },
     "execution_count": 72,
     "metadata": {},
     "output_type": "execute_result"
    }
   ],
   "source": [
    "#Display no of words\n",
    "freqDist.N()"
   ]
  },
  {
   "cell_type": "code",
   "execution_count": 73,
   "id": "c87a7d94",
   "metadata": {},
   "outputs": [
    {
     "data": {
      "text/plain": [
       "0.2"
      ]
     },
     "execution_count": 73,
     "metadata": {},
     "output_type": "execute_result"
    }
   ],
   "source": [
    "# freq means  no of occurance/ total words\n",
    "freqDist.freq('I')"
   ]
  },
  {
   "cell_type": "code",
   "execution_count": 74,
   "id": "66cedf63",
   "metadata": {},
   "outputs": [
    {
     "data": {
      "text/plain": [
       "<Axes: xlabel='Samples', ylabel='Counts'>"
      ]
     },
     "execution_count": 74,
     "metadata": {},
     "output_type": "execute_result"
    },
    {
     "data": {
      "image/png": "[encoded data removed]",
      "text/plain": [
       "<Figure size 640x480 with 1 Axes>"
      ]
     },
     "metadata": {},
     "output_type": "display_data"
    }
   ],
   "source": [
    "freqDist.plot(5)"
   ]
  }
 ],
 "metadata": {
  "kernelspec": {
   "display_name": "Python 3",
   "language": "python",
   "name": "python3"
  },
  "language_info": {
   "codemirror_mode": {
    "name": "ipython",
    "version": 3
   },
   "file_extension": ".py",
   "mimetype": "text/x-python",
   "name": "python",
   "nbconvert_exporter": "python",
   "pygments_lexer": "ipython3",
   "version": "3.11.9"
  }
 },
 "nbformat": 4,
 "nbformat_minor": 5
}
